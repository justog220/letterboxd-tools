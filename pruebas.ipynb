{
 "cells": [
  {
   "cell_type": "code",
   "execution_count": 4,
   "metadata": {},
   "outputs": [
    {
     "name": "stdout",
     "output_type": "stream",
     "text": [
      "URL: https://letterboxd.com/Justo14/watchlist/\n",
      "Éxito en la solicitud: 200\n"
     ]
    }
   ],
   "source": [
    "import requests\n",
    "from bs4 import BeautifulSoup\n",
    "\n",
    "user = \"Justo14\"\n",
    "url = f\"https://letterboxd.com/{user}/watchlist/\"\n",
    "print(\"URL:\", url)\n",
    "response = requests.get(url)\n",
    "\n",
    "# Verifica si la solicitud fue exitosa (código de estado 200)\n",
    "if response.status_code == 200:\n",
    "    print('Éxito en la solicitud:', response.status_code)\n",
    "else:\n",
    "    print('Error en la solicitud:', response.status_code)"
   ]
  },
  {
   "cell_type": "code",
   "execution_count": 5,
   "metadata": {},
   "outputs": [
    {
     "name": "stdout",
     "output_type": "stream",
     "text": [
      "Título de la página: ‎Justo14’s Watchlist • Letterboxd\n"
     ]
    }
   ],
   "source": [
    "soup = BeautifulSoup(response.text, 'html.parser')\n",
    "\n",
    "title = soup.title.text\n",
    "print('Título de la página:', title)\n"
   ]
  },
  {
   "cell_type": "code",
   "execution_count": 6,
   "metadata": {},
   "outputs": [
    {
     "name": "stdout",
     "output_type": "stream",
     "text": [
      "<ul class=\"poster-list -p125 -grid -scaled128\">\n",
      "<li class=\"poster-container\" data-owner-rating=\"0\">\n",
      "<div class=\"really-lazy-load poster film-poster film-poster-483951 linked-film-poster\" data-cache-busting-key=\"014aac0a\" data-film-id=\"483951\" data-film-slug=\"are-you-there-god-its-me-margaret\" data-image-height=\"187\" data-image-width=\"125\" data-linked=\"linked\" data-poster-url=\"/film/are-you-there-god-its-me-margaret/image-150/\" data-show-menu=\"true\" data-target-link=\"/film/are-you-there-god-its-me-margaret/\" data-target-link-target=\"\"> <img alt=\"Are You There God? It's Me, Margaret.\" class=\"image\" height=\"187\" src=\"https://s.ltrbxd.com/static/img/empty-poster-125.1ac65679.png\" width=\"125\"/> <span class=\"frame\"><span class=\"frame-title\"></span></span> </div>\n",
      "</li>\n",
      "<li class=\"poster-container\" data-owner-rating=\"0\">\n",
      "<div class=\"really-lazy-load poster film-poster film-poster-51748 linked-film-poster\" data-cache-busting-key=\"02f3fd43\" data-film-id=\"51748\" data-film-slug=\"once-upon-a-time-in-america\" data-image-height=\"187\" data-image-width=\"125\" data-linked=\"linked\" data-poster-url=\"/film/once-upon-a-time-in-america/image-150/\" data-show-menu=\"true\" data-target-link=\"/film/once-upon-a-time-in-america/\" data-target-link-target=\"\"> <img alt=\"Once Upon a Time in America\" class=\"image\" height=\"187\" src=\"https://s.ltrbxd.com/static/img/empty-poster-125.1ac65679.png\" width=\"125\"/> <span class=\"frame\"><span class=\"frame-title\"></span></span> </div>\n",
      "</li>\n",
      "<li class=\"poster-container\" data-owner-rating=\"0\">\n",
      "<div class=\"really-lazy-load poster film-poster film-poster-674137 linked-film-poster\" data-cache-busting-key=\"bcf8251f\" data-film-id=\"674137\" data-film-slug=\"napoleon-2023\" data-image-height=\"187\" data-image-width=\"125\" data-linked=\"linked\" data-poster-url=\"/film/napoleon-2023/image-150/\" data-show-menu=\"true\" data-target-link=\"/film/napoleon-2023/\" data-target-link-target=\"\"> <img alt=\"Napoleon\" class=\"image\" height=\"187\" src=\"https://s.ltrbxd.com/static/img/empty-poster-125.1ac65679.png\" width=\"125\"/> <span class=\"frame\"><span class=\"frame-title\"></span></span> </div>\n",
      "</li>\n",
      "<li class=\"poster-container\" data-owner-rating=\"0\">\n",
      "<div class=\"really-lazy-load poster film-poster film-poster-98565 linked-film-poster\" data-cache-busting-key=\"0d92bc95\" data-film-id=\"98565\" data-film-slug=\"a-red-bear\" data-image-height=\"187\" data-image-width=\"125\" data-linked=\"linked\" data-poster-url=\"/film/a-red-bear/image-150/\" data-show-menu=\"true\" data-target-link=\"/film/a-red-bear/\" data-target-link-target=\"\"> <img alt=\"A Red Bear\" class=\"image\" height=\"187\" src=\"https://s.ltrbxd.com/static/img/empty-poster-125.1ac65679.png\" width=\"125\"/> <span class=\"frame\"><span class=\"frame-title\"></span></span> </div>\n",
      "</li>\n",
      "<li class=\"poster-container\" data-owner-rating=\"0\">\n",
      "<div class=\"really-lazy-load poster film-poster film-poster-20224 linked-film-poster\" data-cache-busting-key=\"8d68bf47\" data-film-id=\"20224\" data-film-slug=\"the-paranoids\" data-image-height=\"187\" data-image-width=\"125\" data-linked=\"linked\" data-poster-url=\"/film/the-paranoids/image-150/\" data-show-menu=\"true\" data-target-link=\"/film/the-paranoids/\" data-target-link-target=\"\"> <img alt=\"The Paranoids\" class=\"image\" height=\"187\" src=\"https://s.ltrbxd.com/static/img/empty-poster-125.1ac65679.png\" width=\"125\"/> <span class=\"frame\"><span class=\"frame-title\"></span></span> </div>\n",
      "</li>\n",
      "<li class=\"poster-container\" data-owner-rating=\"0\">\n",
      "<div class=\"really-lazy-load poster film-poster film-poster-49047 linked-film-poster\" data-cache-busting-key=\"0a27fdda\" data-film-id=\"49047\" data-film-slug=\"10-things-i-hate-about-you\" data-image-height=\"187\" data-image-width=\"125\" data-linked=\"linked\" data-poster-url=\"/film/10-things-i-hate-about-you/image-150/\" data-show-menu=\"true\" data-target-link=\"/film/10-things-i-hate-about-you/\" data-target-link-target=\"\"> <img alt=\"10 Things I Hate About You\" class=\"image\" height=\"187\" src=\"https://s.ltrbxd.com/static/img/empty-poster-125.1ac65679.png\" width=\"125\"/> <span class=\"frame\"><span class=\"frame-title\"></span></span> </div>\n",
      "</li>\n",
      "<li class=\"poster-container\" data-owner-rating=\"0\">\n",
      "<div class=\"really-lazy-load poster film-poster film-poster-60299 linked-film-poster\" data-cache-busting-key=\"80f61750\" data-film-id=\"60299\" data-film-slug=\"lawrence-of-arabia\" data-image-height=\"187\" data-image-width=\"125\" data-linked=\"linked\" data-poster-url=\"/film/lawrence-of-arabia/image-150/\" data-show-menu=\"true\" data-target-link=\"/film/lawrence-of-arabia/\" data-target-link-target=\"\"> <img alt=\"Lawrence of Arabia\" class=\"image\" height=\"187\" src=\"https://s.ltrbxd.com/static/img/empty-poster-125.1ac65679.png\" width=\"125\"/> <span class=\"frame\"><span class=\"frame-title\"></span></span> </div>\n",
      "</li>\n",
      "<li class=\"poster-container\" data-owner-rating=\"0\">\n",
      "<div class=\"really-lazy-load poster film-poster film-poster-822093 linked-film-poster\" data-cache-busting-key=\"b09383ca\" data-film-id=\"822093\" data-film-slug=\"anatomy-of-a-fall\" data-image-height=\"187\" data-image-width=\"125\" data-linked=\"linked\" data-poster-url=\"/film/anatomy-of-a-fall/image-150/\" data-show-menu=\"true\" data-target-link=\"/film/anatomy-of-a-fall/\" data-target-link-target=\"\"> <img alt=\"Anatomy of a Fall\" class=\"image\" height=\"187\" src=\"https://s.ltrbxd.com/static/img/empty-poster-125.1ac65679.png\" width=\"125\"/> <span class=\"frame\"><span class=\"frame-title\"></span></span> </div>\n",
      "</li>\n",
      "<li class=\"poster-container\" data-owner-rating=\"0\">\n",
      "<div class=\"really-lazy-load poster film-poster film-poster-938453 linked-film-poster\" data-cache-busting-key=\"8de8ff54\" data-film-id=\"938453\" data-film-slug=\"money-exchange\" data-image-height=\"187\" data-image-width=\"125\" data-linked=\"linked\" data-poster-url=\"/film/money-exchange/image-150/\" data-show-menu=\"true\" data-target-link=\"/film/money-exchange/\" data-target-link-target=\"\"> <img alt=\"Money Exchange\" class=\"image\" height=\"187\" src=\"https://s.ltrbxd.com/static/img/empty-poster-125.1ac65679.png\" width=\"125\"/> <span class=\"frame\"><span class=\"frame-title\"></span></span> </div>\n",
      "</li>\n",
      "<li class=\"poster-container\" data-owner-rating=\"0\">\n",
      "<div class=\"really-lazy-load poster film-poster film-poster-51042 linked-film-poster\" data-cache-busting-key=\"8780ecb9\" data-film-id=\"51042\" data-film-slug=\"the-departed\" data-image-height=\"187\" data-image-width=\"125\" data-linked=\"linked\" data-poster-url=\"/film/the-departed/image-150/\" data-show-menu=\"true\" data-target-link=\"/film/the-departed/\" data-target-link-target=\"\"> <img alt=\"The Departed\" class=\"image\" height=\"187\" src=\"https://s.ltrbxd.com/static/img/empty-poster-125.1ac65679.png\" width=\"125\"/> <span class=\"frame\"><span class=\"frame-title\"></span></span> </div>\n",
      "</li>\n",
      "<li class=\"poster-container\" data-owner-rating=\"0\">\n",
      "<div class=\"really-lazy-load poster film-poster film-poster-398009 linked-film-poster\" data-cache-busting-key=\"23607534\" data-film-id=\"398009\" data-film-slug=\"killers-of-the-flower-moon\" data-image-height=\"187\" data-image-width=\"125\" data-linked=\"linked\" data-poster-url=\"/film/killers-of-the-flower-moon/image-150/\" data-show-menu=\"true\" data-target-link=\"/film/killers-of-the-flower-moon/\" data-target-link-target=\"\"> <img alt=\"Killers of the Flower Moon\" class=\"image\" height=\"187\" src=\"https://s.ltrbxd.com/static/img/empty-poster-125.1ac65679.png\" width=\"125\"/> <span class=\"frame\"><span class=\"frame-title\"></span></span> </div>\n",
      "</li>\n",
      "<li class=\"poster-container\" data-owner-rating=\"0\">\n",
      "<div class=\"really-lazy-load poster film-poster film-poster-717654 linked-film-poster\" data-cache-busting-key=\"75e2c866\" data-film-id=\"717654\" data-film-slug=\"the-killer-2023\" data-image-height=\"187\" data-image-width=\"125\" data-linked=\"linked\" data-poster-url=\"/film/the-killer-2023/image-150/\" data-show-menu=\"true\" data-target-link=\"/film/the-killer-2023/\" data-target-link-target=\"\"> <img alt=\"The Killer\" class=\"image\" height=\"187\" src=\"https://s.ltrbxd.com/static/img/empty-poster-125.1ac65679.png\" width=\"125\"/> <span class=\"frame\"><span class=\"frame-title\"></span></span> </div>\n",
      "</li>\n",
      "<li class=\"poster-container\" data-owner-rating=\"0\">\n",
      "<div class=\"really-lazy-load poster film-poster film-poster-643649 linked-film-poster\" data-cache-busting-key=\"0f7e6ee2\" data-film-id=\"643649\" data-film-slug=\"the-kid-detective\" data-image-height=\"187\" data-image-width=\"125\" data-linked=\"linked\" data-poster-url=\"/film/the-kid-detective/image-150/\" data-show-menu=\"true\" data-target-link=\"/film/the-kid-detective/\" data-target-link-target=\"\"> <img alt=\"The Kid Detective\" class=\"image\" height=\"187\" src=\"https://s.ltrbxd.com/static/img/empty-poster-125.1ac65679.png\" width=\"125\"/> <span class=\"frame\"><span class=\"frame-title\"></span></span> </div>\n",
      "</li>\n",
      "<li class=\"poster-container\" data-owner-rating=\"0\">\n",
      "<div class=\"really-lazy-load poster film-poster film-poster-595029 linked-film-poster\" data-cache-busting-key=\"1e1eb927\" data-film-id=\"595029\" data-film-slug=\"the-creator-2023\" data-image-height=\"187\" data-image-width=\"125\" data-linked=\"linked\" data-poster-url=\"/film/the-creator-2023/image-150/\" data-show-menu=\"true\" data-target-link=\"/film/the-creator-2023/\" data-target-link-target=\"\"> <img alt=\"The Creator\" class=\"image\" height=\"187\" src=\"https://s.ltrbxd.com/static/img/empty-poster-125.1ac65679.png\" width=\"125\"/> <span class=\"frame\"><span class=\"frame-title\"></span></span> </div>\n",
      "</li>\n",
      "<li class=\"poster-container\" data-owner-rating=\"0\">\n",
      "<div class=\"really-lazy-load poster film-poster film-poster-20093 linked-film-poster\" data-cache-busting-key=\"82d3c2ca\" data-film-id=\"20093\" data-film-slug=\"super-2010\" data-image-height=\"187\" data-image-width=\"125\" data-linked=\"linked\" data-poster-url=\"/film/super-2010/image-150/\" data-show-menu=\"true\" data-target-link=\"/film/super-2010/\" data-target-link-target=\"\"> <img alt=\"Super\" class=\"image\" height=\"187\" src=\"https://s.ltrbxd.com/static/img/empty-poster-125.1ac65679.png\" width=\"125\"/> <span class=\"frame\"><span class=\"frame-title\"></span></span> </div>\n",
      "</li>\n",
      "<li class=\"poster-container\" data-owner-rating=\"0\">\n",
      "<div class=\"really-lazy-load poster film-poster film-poster-276819 linked-film-poster\" data-cache-busting-key=\"854db437\" data-film-id=\"276819\" data-film-slug=\"it-2017\" data-image-height=\"187\" data-image-width=\"125\" data-linked=\"linked\" data-poster-url=\"/film/it-2017/image-150/\" data-show-menu=\"true\" data-target-link=\"/film/it-2017/\" data-target-link-target=\"\"> <img alt=\"It\" class=\"image\" height=\"187\" src=\"https://s.ltrbxd.com/static/img/empty-poster-125.1ac65679.png\" width=\"125\"/> <span class=\"frame\"><span class=\"frame-title\"></span></span> </div>\n",
      "</li>\n",
      "<li class=\"poster-container\" data-owner-rating=\"0\">\n",
      "<div class=\"really-lazy-load poster film-poster film-poster-585258 linked-film-poster\" data-cache-busting-key=\"095b764a\" data-film-id=\"585258\" data-film-slug=\"the-worst-person-in-the-world\" data-image-height=\"187\" data-image-width=\"125\" data-linked=\"linked\" data-poster-url=\"/film/the-worst-person-in-the-world/image-150/\" data-show-menu=\"true\" data-target-link=\"/film/the-worst-person-in-the-world/\" data-target-link-target=\"\"> <img alt=\"The Worst Person in the World\" class=\"image\" height=\"187\" src=\"https://s.ltrbxd.com/static/img/empty-poster-125.1ac65679.png\" width=\"125\"/> <span class=\"frame\"><span class=\"frame-title\"></span></span> </div>\n",
      "</li>\n",
      "<li class=\"poster-container\" data-owner-rating=\"0\">\n",
      "<div class=\"really-lazy-load poster film-poster film-poster-542773 linked-film-poster\" data-cache-busting-key=\"54d4eb79\" data-film-id=\"542773\" data-film-slug=\"babylon-2022\" data-image-height=\"187\" data-image-width=\"125\" data-linked=\"linked\" data-poster-url=\"/film/babylon-2022/image-150/\" data-show-menu=\"true\" data-target-link=\"/film/babylon-2022/\" data-target-link-target=\"\"> <img alt=\"Babylon\" class=\"image\" height=\"187\" src=\"https://s.ltrbxd.com/static/img/empty-poster-125.1ac65679.png\" width=\"125\"/> <span class=\"frame\"><span class=\"frame-title\"></span></span> </div>\n",
      "</li>\n",
      "<li class=\"poster-container\" data-owner-rating=\"0\">\n",
      "<div class=\"really-lazy-load poster film-poster film-poster-114564 linked-film-poster\" data-cache-busting-key=\"0d0a7517\" data-film-id=\"114564\" data-film-slug=\"her\" data-image-height=\"187\" data-image-width=\"125\" data-linked=\"linked\" data-poster-url=\"/film/her/image-150/\" data-show-menu=\"true\" data-target-link=\"/film/her/\" data-target-link-target=\"\"> <img alt=\"Her\" class=\"image\" height=\"187\" src=\"https://s.ltrbxd.com/static/img/empty-poster-125.1ac65679.png\" width=\"125\"/> <span class=\"frame\"><span class=\"frame-title\"></span></span> </div>\n",
      "</li>\n",
      "<li class=\"poster-container\" data-owner-rating=\"0\">\n",
      "<div class=\"really-lazy-load poster film-poster film-poster-51910 linked-film-poster\" data-cache-busting-key=\"8cc2dad8\" data-film-id=\"51910\" data-film-slug=\"donnie-darko\" data-image-height=\"187\" data-image-width=\"125\" data-linked=\"linked\" data-poster-url=\"/film/donnie-darko/image-150/\" data-show-menu=\"true\" data-target-link=\"/film/donnie-darko/\" data-target-link-target=\"\"> <img alt=\"Donnie Darko\" class=\"image\" height=\"187\" src=\"https://s.ltrbxd.com/static/img/empty-poster-125.1ac65679.png\" width=\"125\"/> <span class=\"frame\"><span class=\"frame-title\"></span></span> </div>\n",
      "</li>\n",
      "<li class=\"poster-container\" data-owner-rating=\"0\">\n",
      "<div class=\"really-lazy-load poster film-poster film-poster-51987 linked-film-poster\" data-cache-busting-key=\"804d5682\" data-film-id=\"51987\" data-film-slug=\"2001-a-space-odyssey\" data-image-height=\"187\" data-image-width=\"125\" data-linked=\"linked\" data-poster-url=\"/film/2001-a-space-odyssey/image-150/\" data-show-menu=\"true\" data-target-link=\"/film/2001-a-space-odyssey/\" data-target-link-target=\"\"> <img alt=\"2001: A Space Odyssey\" class=\"image\" height=\"187\" src=\"https://s.ltrbxd.com/static/img/empty-poster-125.1ac65679.png\" width=\"125\"/> <span class=\"frame\"><span class=\"frame-title\"></span></span> </div>\n",
      "</li>\n",
      "<li class=\"poster-container\" data-owner-rating=\"0\">\n",
      "<div class=\"really-lazy-load poster film-poster film-poster-795897 linked-film-poster\" data-cache-busting-key=\"dc2cd999\" data-film-id=\"795897\" data-film-slug=\"no-hard-feelings-2023\" data-image-height=\"187\" data-image-width=\"125\" data-linked=\"linked\" data-poster-url=\"/film/no-hard-feelings-2023/image-150/\" data-show-menu=\"true\" data-target-link=\"/film/no-hard-feelings-2023/\" data-target-link-target=\"\"> <img alt=\"No Hard Feelings\" class=\"image\" height=\"187\" src=\"https://s.ltrbxd.com/static/img/empty-poster-125.1ac65679.png\" width=\"125\"/> <span class=\"frame\"><span class=\"frame-title\"></span></span> </div>\n",
      "</li>\n",
      "<li class=\"poster-container\" data-owner-rating=\"0\">\n",
      "<div class=\"really-lazy-load poster film-poster film-poster-908144 linked-film-poster\" data-cache-busting-key=\"0b0115d6\" data-film-id=\"908144\" data-film-slug=\"talk-to-me-2022\" data-image-height=\"187\" data-image-width=\"125\" data-linked=\"linked\" data-poster-url=\"/film/talk-to-me-2022/image-150/\" data-show-menu=\"true\" data-target-link=\"/film/talk-to-me-2022/\" data-target-link-target=\"\"> <img alt=\"Talk to Me\" class=\"image\" height=\"187\" src=\"https://s.ltrbxd.com/static/img/empty-poster-125.1ac65679.png\" width=\"125\"/> <span class=\"frame\"><span class=\"frame-title\"></span></span> </div>\n",
      "</li>\n",
      "<li class=\"poster-container\" data-owner-rating=\"0\">\n",
      "<div class=\"really-lazy-load poster film-poster film-poster-7845 linked-film-poster\" data-cache-busting-key=\"80c522b2\" data-film-id=\"7845\" data-film-slug=\"la-cienaga\" data-image-height=\"187\" data-image-width=\"125\" data-linked=\"linked\" data-poster-url=\"/film/la-cienaga/image-150/\" data-show-menu=\"true\" data-target-link=\"/film/la-cienaga/\" data-target-link-target=\"\"> <img alt=\"La Ciénaga\" class=\"image\" height=\"187\" src=\"https://s.ltrbxd.com/static/img/empty-poster-125.1ac65679.png\" width=\"125\"/> <span class=\"frame\"><span class=\"frame-title\"></span></span> </div>\n",
      "</li>\n",
      "<li class=\"poster-container\" data-owner-rating=\"0\">\n",
      "<div class=\"really-lazy-load poster film-poster film-poster-51921 linked-film-poster\" data-cache-busting-key=\"0cd82137\" data-film-id=\"51921\" data-film-slug=\"spirited-away\" data-image-height=\"187\" data-image-width=\"125\" data-linked=\"linked\" data-poster-url=\"/film/spirited-away/image-150/\" data-show-menu=\"true\" data-target-link=\"/film/spirited-away/\" data-target-link-target=\"\"> <img alt=\"Spirited Away\" class=\"image\" height=\"187\" src=\"https://s.ltrbxd.com/static/img/empty-poster-125.1ac65679.png\" width=\"125\"/> <span class=\"frame\"><span class=\"frame-title\"></span></span> </div>\n",
      "</li>\n",
      "<li class=\"poster-container\" data-owner-rating=\"0\">\n",
      "<div class=\"really-lazy-load poster film-poster film-poster-51511 linked-film-poster\" data-cache-busting-key=\"03937c64\" data-film-id=\"51511\" data-film-slug=\"munich\" data-image-height=\"187\" data-image-width=\"125\" data-linked=\"linked\" data-poster-url=\"/film/munich/image-150/\" data-show-menu=\"true\" data-target-link=\"/film/munich/\" data-target-link-target=\"\"> <img alt=\"Munich\" class=\"image\" height=\"187\" src=\"https://s.ltrbxd.com/static/img/empty-poster-125.1ac65679.png\" width=\"125\"/> <span class=\"frame\"><span class=\"frame-title\"></span></span> </div>\n",
      "</li>\n",
      "<li class=\"poster-container\" data-owner-rating=\"0\">\n",
      "<div class=\"really-lazy-load poster film-poster film-poster-51922 linked-film-poster\" data-cache-busting-key=\"023296ad\" data-film-id=\"51922\" data-film-slug=\"princess-mononoke\" data-image-height=\"187\" data-image-width=\"125\" data-linked=\"linked\" data-poster-url=\"/film/princess-mononoke/image-150/\" data-show-menu=\"true\" data-target-link=\"/film/princess-mononoke/\" data-target-link-target=\"\"> <img alt=\"Princess Mononoke\" class=\"image\" height=\"187\" src=\"https://s.ltrbxd.com/static/img/empty-poster-125.1ac65679.png\" width=\"125\"/> <span class=\"frame\"><span class=\"frame-title\"></span></span> </div>\n",
      "</li>\n",
      "<li class=\"poster-container\" data-owner-rating=\"0\">\n",
      "<div class=\"really-lazy-load poster film-poster film-poster-49062 linked-film-poster\" data-cache-busting-key=\"8fe05862\" data-film-id=\"49062\" data-film-slug=\"howls-moving-castle\" data-image-height=\"187\" data-image-width=\"125\" data-linked=\"linked\" data-poster-url=\"/film/howls-moving-castle/image-150/\" data-show-menu=\"true\" data-target-link=\"/film/howls-moving-castle/\" data-target-link-target=\"\"> <img alt=\"Howl's Moving Castle\" class=\"image\" height=\"187\" src=\"https://s.ltrbxd.com/static/img/empty-poster-125.1ac65679.png\" width=\"125\"/> <span class=\"frame\"><span class=\"frame-title\"></span></span> </div>\n",
      "</li>\n",
      "</ul>\n"
     ]
    }
   ],
   "source": [
    "ul_element = soup.find('ul', class_=lambda x: x and 'poster-list' in x.split())\n",
    "print(ul_element)"
   ]
  },
  {
   "cell_type": "code",
   "execution_count": 7,
   "metadata": {},
   "outputs": [
    {
     "name": "stdout",
     "output_type": "stream",
     "text": [
      "Are You There God? It's Me, Margaret.\n",
      "Once Upon a Time in America\n",
      "Napoleon\n",
      "A Red Bear\n",
      "The Paranoids\n",
      "10 Things I Hate About You\n",
      "Lawrence of Arabia\n",
      "Anatomy of a Fall\n",
      "Money Exchange\n",
      "The Departed\n",
      "Killers of the Flower Moon\n",
      "The Killer\n",
      "The Kid Detective\n",
      "The Creator\n",
      "Super\n",
      "It\n",
      "The Worst Person in the World\n",
      "Babylon\n",
      "Her\n",
      "Donnie Darko\n",
      "2001: A Space Odyssey\n",
      "No Hard Feelings\n",
      "Talk to Me\n",
      "La Ciénaga\n",
      "Spirited Away\n",
      "Munich\n",
      "Princess Mononoke\n",
      "Howl's Moving Castle\n"
     ]
    }
   ],
   "source": [
    "    "
   ]
  },
  {
   "cell_type": "code",
   "execution_count": 20,
   "metadata": {},
   "outputs": [
    {
     "name": "stdout",
     "output_type": "stream",
     "text": [
      "https://letterboxd.com/Justo14/watchlist/page/1/\n",
      "https://letterboxd.com/Justo14/watchlist/page/2/\n",
      "https://letterboxd.com/Justo14/watchlist/page/3/\n",
      "https://letterboxd.com/Justo14/watchlist/page/4/\n",
      "https://letterboxd.com/Justo14/watchlist/page/5/\n"
     ]
    }
   ],
   "source": [
    "pagination_div = soup.find('div', class_=lambda x: x and 'pagination' in x.split())\n",
    "#print(pagination_div.prettify)\n",
    "num_pagina = int(pagination_div.find_all('li')[-1].get_text())\n",
    "for i in range(1, num_pagina+1, 1):\n",
    "    url = f\"https://letterboxd.com/{user}/watchlist/page/{i}/\"\n",
    "    print(url)"
   ]
  },
  {
   "cell_type": "code",
   "execution_count": null,
   "metadata": {},
   "outputs": [
    {
     "ename": "",
     "evalue": "",
     "output_type": "error",
     "traceback": [
      "\u001b[1;31mThe kernel failed to start as 'Mapping' could not be imported from 'c:\\Users\\justo\\AppData\\Local\\Programs\\Python\\Python310\\lib\\collections\\__init__.py'.\n",
      "\u001b[1;31mClick <a href='https://aka.ms/kernelFailuresModuleImportErrFromFile'>here</a> for more info."
     ]
    }
   ],
   "source": [
    "user = \"Justo15\"\n",
    "url = f\"https://letterboxd.com/{user}\"\n",
    "response = requests.get(url)\n",
    "\n",
    "print(response.status_code)"
   ]
  },
  {
   "cell_type": "code",
   "execution_count": null,
   "metadata": {},
   "outputs": [],
   "source": []
  }
 ],
 "metadata": {
  "kernelspec": {
   "display_name": "Python 3",
   "language": "python",
   "name": "python3"
  },
  "language_info": {
   "codemirror_mode": {
    "name": "ipython",
    "version": 3
   },
   "file_extension": ".py",
   "mimetype": "text/x-python",
   "name": "python",
   "nbconvert_exporter": "python",
   "pygments_lexer": "ipython3",
   "version": "3.10.9"
  },
  "orig_nbformat": 4
 },
 "nbformat": 4,
 "nbformat_minor": 2
}
